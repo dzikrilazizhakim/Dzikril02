{
 "cells": [
  {
   "cell_type": "code",
   "execution_count": null,
   "id": "4525bea4-1bab-47c0-9925-6a072a56e04b",
   "metadata": {},
   "outputs": [],
   "source": [
    "list = []\n",
    "for i in range(2):\n",
    "    angka = int(input(f\"angka ke-{i+1}: \"))\n",
    "    list.append(angka)\n",
    "\n",
    "jumlah =sum(list)\n",
    "rata_rata = jumlah / 2\n",
    "\n",
    "maksimum = list[0]\n",
    "minimum = list[0]\n",
    "\n",
    "for angka in list:\n",
    "    if angka > maksimum :\n",
    "        maksimum = angka\n",
    "    if angka < minimum :\n",
    "        minimum = angka\n",
    "\n",
    "print(\"list angka :\", list)\n",
    "print(\"jumlah total :\", jumlah)\n",
    "print(\"rata_rata :\", rata_rata)\n",
    "print(\"Nilai terbesar :\", maksimum)\n",
    "print(\"Nilai terkecil :\", minimum)\n"
   ]
  },
  {
   "cell_type": "code",
   "execution_count": null,
   "id": "9cef30d9-f547-488c-a127-6ee7652809cb",
   "metadata": {},
   "outputs": [],
   "source": []
  }
 ],
 "metadata": {
  "kernelspec": {
   "display_name": "Python 3 (ipykernel)",
   "language": "python",
   "name": "python3"
  },
  "language_info": {
   "codemirror_mode": {
    "name": "ipython",
    "version": 3
   },
   "file_extension": ".py",
   "mimetype": "text/x-python",
   "name": "python",
   "nbconvert_exporter": "python",
   "pygments_lexer": "ipython3",
   "version": "3.12.9"
  }
 },
 "nbformat": 4,
 "nbformat_minor": 5
}
