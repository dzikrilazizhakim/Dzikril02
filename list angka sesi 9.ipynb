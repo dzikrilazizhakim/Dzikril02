{
 "cells": [
  {
   "cell_type": "code",
   "execution_count": null,
   "id": "040910a9-32ca-4582-837c-a55152f861f3",
   "metadata": {},
   "outputs": [],
   "source": [
    "list = {}\n",
    "for i in range(5):\n",
    "    angka = int(input(f\"masukkan angka {i+1} : \"))\n",
    "    list.append(angka)\n",
    "jumlah = sum(list)\n",
    "maksimum = list[0]\n",
    "minimum = list[0]\n",
    "\n",
    "for angka in list:\n",
    "    if angka > maksimum :\n",
    "        maksimum = angka\n",
    "    if angka < minimum :\n",
    "        minimum = angka\n",
    "\n",
    "rata_rata = jumlah / 5\n",
    "\n",
    "for i in range(len(list)):\n",
    "    for j in range(i + 1, len(list)):\n",
    "        if list[i] > list[j]:\n",
    "            list[i], list[j] = list [j], list[i]\n",
    "\n",
    "panjang = len(list)\n",
    "if panjang % 2 == 1:\n",
    "    median = list[panjang // 2]\n",
    "else :\n",
    "    tengah_1 = list[(panjang // 2) - 1]\n",
    "    tengah_2 = list[panjang // 2]\n",
    "    median = (tengah_1 + tengah_2) / 2\n",
    "\n",
    "print(\"list angka :\", list)\n",
    "print(\"jumlah :\", jumlah)\n",
    "print(\"Nilai terbesar :\", maksimum)\n",
    "print(\"Nilai terkecil :\", minimum)\n",
    "print(\"rata-rata nya adalah :\", rata_rata)\n",
    "print(\"Nilai median nya adalah :\", median)\n",
    "                    \n",
    "    \n",
    "            "
   ]
  },
  {
   "cell_type": "code",
   "execution_count": null,
   "id": "ec88fd6e-5f90-4b71-83cb-297b8d2740f8",
   "metadata": {},
   "outputs": [],
   "source": []
  }
 ],
 "metadata": {
  "kernelspec": {
   "display_name": "Python 3 (ipykernel)",
   "language": "python",
   "name": "python3"
  },
  "language_info": {
   "codemirror_mode": {
    "name": "ipython",
    "version": 3
   },
   "file_extension": ".py",
   "mimetype": "text/x-python",
   "name": "python",
   "nbconvert_exporter": "python",
   "pygments_lexer": "ipython3",
   "version": "3.12.9"
  }
 },
 "nbformat": 4,
 "nbformat_minor": 5
}
