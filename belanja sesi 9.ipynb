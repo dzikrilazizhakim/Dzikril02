{
 "cells": [
  {
   "cell_type": "code",
   "execution_count": null,
   "id": "f07e38ed-4713-4897-b2fd-6d80c6439487",
   "metadata": {},
   "outputs": [],
   "source": [
    "daftar_belanja = []\n",
    "for i in range(5):\n",
    "    item = input(f\"masukkan item belanja {i+1}: \")\n",
    "    daftar_belanja.append(item)\n",
    "\n",
    "hapus = input(\"masukkan nama item yang sudah dibeli: \")\n",
    "\n",
    "if hapus in daftar_belanja:\n",
    "    daftar_belanja.remove(hapus)\n",
    "    print(\"daftar belanja setelah di hapus: \")\n",
    "else:\n",
    "    print(\"item tidak ditemukan dalam daftar\")\n",
    "\n",
    "print(\"List daftar belanja :\", daftar_belanja)"
   ]
  }
 ],
 "metadata": {
  "kernelspec": {
   "display_name": "Python 3 (ipykernel)",
   "language": "python",
   "name": "python3"
  },
  "language_info": {
   "codemirror_mode": {
    "name": "ipython",
    "version": 3
   },
   "file_extension": ".py",
   "mimetype": "text/x-python",
   "name": "python",
   "nbconvert_exporter": "python",
   "pygments_lexer": "ipython3",
   "version": "3.12.9"
  }
 },
 "nbformat": 4,
 "nbformat_minor": 5
}
