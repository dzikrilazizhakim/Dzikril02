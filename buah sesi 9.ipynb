{
 "cells": [
  {
   "cell_type": "code",
   "execution_count": 2,
   "id": "fab1b735-22e5-42a4-a716-6a4eb1ef2756",
   "metadata": {},
   "outputs": [
    {
     "name": "stdout",
     "output_type": "stream",
     "text": [
      "['mangga', 'apel', 'stroberry', 'jeruk', 'duren']\n",
      "Buah pada indeks ke-2 adalah: stroberry\n"
     ]
    },
    {
     "name": "stdin",
     "output_type": "stream",
     "text": [
      "Masukkan nama buah baru yang akan ditambahkan:  6\n"
     ]
    },
    {
     "name": "stdout",
     "output_type": "stream",
     "text": [
      "daftar buah setelah ditambahkan :\n",
      "['mangga', 'apel', 'stroberry', 'jeruk', 'duren', '6']\n"
     ]
    }
   ],
   "source": [
    "list_buah = ['mangga', 'apel', 'stroberry', 'jeruk', 'duren']\n",
    "print(list_buah)\n",
    "\n",
    "print(\"Buah pada indeks ke-2 adalah:\",list_buah[2])\n",
    "buah_baru =input(\"Masukkan nama buah baru yang akan ditambahkan: \")\n",
    "list_buah.append(buah_baru)\n",
    "\n",
    "print(\"daftar buah setelah ditambahkan :\")\n",
    "print(list_buah)"
   ]
  },
  {
   "cell_type": "code",
   "execution_count": null,
   "id": "84936d26-b703-49d7-b99c-3c83d44157a4",
   "metadata": {},
   "outputs": [],
   "source": []
  }
 ],
 "metadata": {
  "kernelspec": {
   "display_name": "Python 3 (ipykernel)",
   "language": "python",
   "name": "python3"
  },
  "language_info": {
   "codemirror_mode": {
    "name": "ipython",
    "version": 3
   },
   "file_extension": ".py",
   "mimetype": "text/x-python",
   "name": "python",
   "nbconvert_exporter": "python",
   "pygments_lexer": "ipython3",
   "version": "3.12.9"
  }
 },
 "nbformat": 4,
 "nbformat_minor": 5
}
